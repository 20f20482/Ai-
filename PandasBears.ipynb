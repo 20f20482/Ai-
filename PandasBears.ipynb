{
  "nbformat": 4,
  "nbformat_minor": 0,
  "metadata": {
    "colab": {
      "provenance": []
    },
    "kernelspec": {
      "name": "python3",
      "display_name": "Python 3"
    },
    "language_info": {
      "name": "python"
    }
  },
  "cells": [
    {
      "cell_type": "code",
      "execution_count": 1,
      "metadata": {
        "colab": {
          "base_uri": "https://localhost:8080/"
        },
        "id": "WXPxMkdSqcuv",
        "outputId": "7654d96b-06a7-490f-caf3-f3145bca3d25"
      },
      "outputs": [
        {
          "output_type": "stream",
          "name": "stdout",
          "text": [
            "Mounted at /content/drive\n"
          ]
        }
      ],
      "source": [
        "from google.colab import drive\n",
        "drive.mount('/content/drive', force_remount=True)"
      ]
    },
    {
      "cell_type": "code",
      "source": [
        "train_dir = '/content/drive/MyDrive/AI/Train'\n",
        "test_dir = '/content/drive/MyDrive/AI/Test'"
      ],
      "metadata": {
        "id": "eGZtAnYYvWGb"
      },
      "execution_count": 2,
      "outputs": []
    },
    {
      "cell_type": "code",
      "source": [
        "import os\n",
        "print(len(os.listdir('/content/drive/MyDrive/AI/Train/Bears')))\n",
        "print(len(os.listdir('/content/drive/MyDrive/AI/Train/Pandas')))\n",
        "print(len(os.listdir('/content/drive/MyDrive/AI/Test/Bears')))\n",
        "print(len(os.listdir('/content/drive/MyDrive/AI/Test/Pandas')))"
      ],
      "metadata": {
        "colab": {
          "base_uri": "https://localhost:8080/"
        },
        "id": "cP1Km1n5ubRY",
        "outputId": "121a5294-1240-420a-de0a-45b7254c3bdd"
      },
      "execution_count": 4,
      "outputs": [
        {
          "output_type": "stream",
          "name": "stdout",
          "text": [
            "250\n",
            "250\n",
            "50\n",
            "50\n"
          ]
        }
      ]
    },
    {
      "cell_type": "code",
      "source": [
        "import tensorflow as tf\n",
        "from tensorflow.keras.preprocessing.image import ImageDataGenerator\n",
        "\n",
        "# Create ImageDataGenerator for training set\n",
        "train_datagen = ImageDataGenerator(\n",
        "    rescale=1./255,\n",
        "    validation_split=0.2\n",
        ")\n",
        "\n",
        "\n",
        "train_data = train_datagen.flow_from_directory(\n",
        "    train_dir,\n",
        "    target_size=(256,256),\n",
        "    batch_size=32,\n",
        "    class_mode='binary',  # 'binary' for binary classification (Bears vs. Pandas)\n",
        "    subset='training'\n",
        ")\n",
        "\n",
        "# Create ImageDataGenerator for validation set\n",
        "validation_datagen = ImageDataGenerator(\n",
        "    rescale=1./255,\n",
        "    validation_split=0.2\n",
        ")\n",
        "\n",
        "# Load and prepare validation data\n",
        "validation_data = validation_datagen.flow_from_directory(\n",
        "    train_dir,\n",
        "    target_size=(256,256),\n",
        "    batch_size=32,\n",
        "    class_mode='binary',\n",
        "    subset='validation'\n",
        ")"
      ],
      "metadata": {
        "colab": {
          "base_uri": "https://localhost:8080/"
        },
        "id": "PnY_nAylu8zW",
        "outputId": "082ac2d5-e9be-4f44-eb89-6b0f5b23f211"
      },
      "execution_count": 21,
      "outputs": [
        {
          "output_type": "stream",
          "name": "stdout",
          "text": [
            "Found 400 images belonging to 2 classes.\n",
            "Found 100 images belonging to 2 classes.\n"
          ]
        }
      ]
    },
    {
      "cell_type": "code",
      "source": [
        "from tensorflow import keras\n",
        "from keras import Sequential\n",
        "from keras.layers import Dense,Conv2D,MaxPooling2D,Flatten,BatchNormalization,UpSampling2D, Dropout"
      ],
      "metadata": {
        "id": "JpDjQ3DdvTLI"
      },
      "execution_count": 22,
      "outputs": []
    },
    {
      "cell_type": "code",
      "source": [
        "# create CNN model\n",
        "\n",
        "model = Sequential()\n",
        "\n",
        "model.add(Conv2D(32,kernel_size=(3,3),padding='valid',activation='relu',input_shape=(256,256,3)))\n",
        "\n",
        "model.add(MaxPooling2D(pool_size=(2,2),strides=2,padding='valid'))\n",
        "\n",
        "model.add(Conv2D(64,kernel_size=(3,3),padding='valid',activation='relu'))\n",
        "\n",
        "model.add(MaxPooling2D(pool_size=(2,2),strides=2,padding='valid'))\n",
        "\n",
        "model.add(Conv2D(128,kernel_size=(3,3),padding='valid',activation='relu'))\n",
        "\n",
        "model.add(MaxPooling2D(pool_size=(2,2),strides=2,padding='valid'))\n",
        "\n",
        "model.add(Flatten())\n",
        "\n",
        "model.add(Dense(128,activation='relu'))\n",
        "\n",
        "model.add(Dense(64,activation='relu'))\n",
        "\n",
        "model.add(Dense(1,activation='sigmoid'))"
      ],
      "metadata": {
        "id": "32v6HXJ3vXXI"
      },
      "execution_count": 23,
      "outputs": []
    },
    {
      "cell_type": "code",
      "source": [
        "from keras.optimizers import Adam\n",
        "model.compile(optimizer=Adam(learning_rate=0.001),loss='binary_crossentropy',metrics=['accuracy'])"
      ],
      "metadata": {
        "id": "eneFzfIgveN1"
      },
      "execution_count": 24,
      "outputs": []
    },
    {
      "cell_type": "code",
      "source": [
        "history = model.fit(train_data, epochs=30, validation_data=validation_data)"
      ],
      "metadata": {
        "colab": {
          "base_uri": "https://localhost:8080/"
        },
        "id": "9ZARcoCSvi0v",
        "outputId": "6c5efbc4-0a32-4c4e-e5dc-26c98e187e63"
      },
      "execution_count": 25,
      "outputs": [
        {
          "output_type": "stream",
          "name": "stdout",
          "text": [
            "Epoch 1/30\n",
            "13/13 [==============================] - 68s 5s/step - loss: 0.4832 - accuracy: 0.8075 - val_loss: 0.0527 - val_accuracy: 1.0000\n",
            "Epoch 2/30\n",
            "13/13 [==============================] - 67s 5s/step - loss: 0.0519 - accuracy: 0.9900 - val_loss: 0.0139 - val_accuracy: 1.0000\n",
            "Epoch 3/30\n",
            "13/13 [==============================] - 68s 5s/step - loss: 0.0027 - accuracy: 1.0000 - val_loss: 0.0012 - val_accuracy: 1.0000\n",
            "Epoch 4/30\n",
            "13/13 [==============================] - 62s 5s/step - loss: 2.9594e-04 - accuracy: 1.0000 - val_loss: 0.0014 - val_accuracy: 1.0000\n",
            "Epoch 5/30\n",
            "13/13 [==============================] - 63s 5s/step - loss: 8.0373e-05 - accuracy: 1.0000 - val_loss: 7.6588e-05 - val_accuracy: 1.0000\n",
            "Epoch 6/30\n",
            "13/13 [==============================] - 67s 5s/step - loss: 4.2401e-05 - accuracy: 1.0000 - val_loss: 2.3862e-04 - val_accuracy: 1.0000\n",
            "Epoch 7/30\n",
            "13/13 [==============================] - 63s 5s/step - loss: 2.6555e-05 - accuracy: 1.0000 - val_loss: 2.5825e-04 - val_accuracy: 1.0000\n",
            "Epoch 8/30\n",
            "13/13 [==============================] - 65s 5s/step - loss: 2.3577e-05 - accuracy: 1.0000 - val_loss: 2.2000e-04 - val_accuracy: 1.0000\n",
            "Epoch 9/30\n",
            "13/13 [==============================] - 63s 5s/step - loss: 2.0205e-05 - accuracy: 1.0000 - val_loss: 1.6356e-04 - val_accuracy: 1.0000\n",
            "Epoch 10/30\n",
            "13/13 [==============================] - 62s 5s/step - loss: 1.8093e-05 - accuracy: 1.0000 - val_loss: 1.4321e-04 - val_accuracy: 1.0000\n",
            "Epoch 11/30\n",
            "13/13 [==============================] - 65s 5s/step - loss: 1.6210e-05 - accuracy: 1.0000 - val_loss: 1.2388e-04 - val_accuracy: 1.0000\n",
            "Epoch 12/30\n",
            "13/13 [==============================] - 62s 5s/step - loss: 1.3788e-05 - accuracy: 1.0000 - val_loss: 1.0517e-04 - val_accuracy: 1.0000\n",
            "Epoch 13/30\n",
            "13/13 [==============================] - 64s 5s/step - loss: 1.2303e-05 - accuracy: 1.0000 - val_loss: 1.0425e-04 - val_accuracy: 1.0000\n",
            "Epoch 14/30\n",
            "13/13 [==============================] - 82s 6s/step - loss: 1.1040e-05 - accuracy: 1.0000 - val_loss: 7.1654e-05 - val_accuracy: 1.0000\n",
            "Epoch 15/30\n",
            "13/13 [==============================] - 62s 5s/step - loss: 9.9911e-06 - accuracy: 1.0000 - val_loss: 6.9239e-05 - val_accuracy: 1.0000\n",
            "Epoch 16/30\n",
            "13/13 [==============================] - 65s 5s/step - loss: 8.8108e-06 - accuracy: 1.0000 - val_loss: 6.7413e-05 - val_accuracy: 1.0000\n",
            "Epoch 17/30\n",
            "13/13 [==============================] - 63s 5s/step - loss: 7.7713e-06 - accuracy: 1.0000 - val_loss: 4.0018e-05 - val_accuracy: 1.0000\n",
            "Epoch 18/30\n",
            "13/13 [==============================] - 62s 5s/step - loss: 7.7590e-06 - accuracy: 1.0000 - val_loss: 5.9450e-05 - val_accuracy: 1.0000\n",
            "Epoch 19/30\n",
            "13/13 [==============================] - 64s 5s/step - loss: 7.2633e-06 - accuracy: 1.0000 - val_loss: 4.0558e-05 - val_accuracy: 1.0000\n",
            "Epoch 20/30\n",
            "13/13 [==============================] - 62s 5s/step - loss: 5.5442e-06 - accuracy: 1.0000 - val_loss: 4.5304e-05 - val_accuracy: 1.0000\n",
            "Epoch 21/30\n",
            "13/13 [==============================] - 73s 6s/step - loss: 4.4240e-06 - accuracy: 1.0000 - val_loss: 3.6130e-05 - val_accuracy: 1.0000\n",
            "Epoch 22/30\n",
            "13/13 [==============================] - 62s 5s/step - loss: 4.0611e-06 - accuracy: 1.0000 - val_loss: 3.0305e-05 - val_accuracy: 1.0000\n",
            "Epoch 23/30\n",
            "13/13 [==============================] - 63s 5s/step - loss: 3.7364e-06 - accuracy: 1.0000 - val_loss: 3.0991e-05 - val_accuracy: 1.0000\n",
            "Epoch 24/30\n",
            "13/13 [==============================] - 65s 5s/step - loss: 3.1954e-06 - accuracy: 1.0000 - val_loss: 3.4665e-05 - val_accuracy: 1.0000\n",
            "Epoch 25/30\n",
            "13/13 [==============================] - 62s 5s/step - loss: 2.7995e-06 - accuracy: 1.0000 - val_loss: 3.1155e-05 - val_accuracy: 1.0000\n",
            "Epoch 26/30\n",
            "13/13 [==============================] - 63s 5s/step - loss: 2.0436e-06 - accuracy: 1.0000 - val_loss: 2.8242e-05 - val_accuracy: 1.0000\n",
            "Epoch 27/30\n",
            "13/13 [==============================] - 65s 5s/step - loss: 1.6318e-06 - accuracy: 1.0000 - val_loss: 2.2543e-05 - val_accuracy: 1.0000\n",
            "Epoch 28/30\n",
            "13/13 [==============================] - 63s 5s/step - loss: 1.4133e-06 - accuracy: 1.0000 - val_loss: 1.7106e-05 - val_accuracy: 1.0000\n",
            "Epoch 29/30\n",
            "13/13 [==============================] - 70s 5s/step - loss: 1.2622e-06 - accuracy: 1.0000 - val_loss: 2.2834e-05 - val_accuracy: 1.0000\n",
            "Epoch 30/30\n",
            "13/13 [==============================] - 72s 5s/step - loss: 1.1090e-06 - accuracy: 1.0000 - val_loss: 1.7501e-05 - val_accuracy: 1.0000\n"
          ]
        }
      ]
    },
    {
      "cell_type": "code",
      "source": [
        "import matplotlib.pyplot as plt\n",
        "\n",
        "plt.plot(history.history['accuracy'],color='black',label='train')\n",
        "plt.plot(history.history['val_accuracy'],color='blue',label='validation')\n",
        "plt.legend()\n",
        "plt.show()"
      ],
      "metadata": {
        "colab": {
          "base_uri": "https://localhost:8080/",
          "height": 430
        },
        "id": "1qbw6YvY4yth",
        "outputId": "c2fcf80e-1b16-46e7-c515-919b9c08be7f"
      },
      "execution_count": 16,
      "outputs": [
        {
          "output_type": "display_data",
          "data": {
            "text/plain": [
              "<Figure size 640x480 with 1 Axes>"
            ],
            "image/png": "[encoded data removed]"
          },
          "metadata": {}
        }
      ]
    },
    {
      "cell_type": "code",
      "source": [
        "plt.plot(history.history['loss'],color='pink',label='train')\n",
        "plt.plot(history.history['val_loss'],color='green',label='validation')\n",
        "plt.legend()\n",
        "plt.show()"
      ],
      "metadata": {
        "colab": {
          "base_uri": "https://localhost:8080/",
          "height": 430
        },
        "id": "QFVxcZ8J43oP",
        "outputId": "87012667-e86f-422a-fe17-dac654ecc0b1"
      },
      "execution_count": 14,
      "outputs": [
        {
          "output_type": "display_data",
          "data": {
            "text/plain": [
              "<Figure size 640x480 with 1 Axes>"
            ],
            "image/png": "[encoded data removed]"
          },
          "metadata": {}
        }
      ]
    },
    {
      "cell_type": "code",
      "source": [
        "test_datagen = ImageDataGenerator(rescale=1./255)\n",
        "test_data = test_datagen.flow_from_directory(\n",
        "    test_dir,\n",
        "    target_size=(256,256),\n",
        "    batch_size=32,\n",
        "    class_mode='binary'\n",
        ")"
      ],
      "metadata": {
        "colab": {
          "base_uri": "https://localhost:8080/"
        },
        "id": "j7XiYVMd5RTU",
        "outputId": "5a4fb741-b9c1-402f-d01a-a06a0d0cb7f7"
      },
      "execution_count": 17,
      "outputs": [
        {
          "output_type": "stream",
          "name": "stdout",
          "text": [
            "Found 100 images belonging to 2 classes.\n"
          ]
        }
      ]
    },
    {
      "cell_type": "code",
      "source": [
        "#predict the test data\n",
        "predictions = model.predict(test_data)\n",
        "print(predictions)"
      ],
      "metadata": {
        "colab": {
          "base_uri": "https://localhost:8080/"
        },
        "id": "IOiuRmP_5avo",
        "outputId": "05cc0a02-dc22-43ba-f2fc-d77580ded813"
      },
      "execution_count": 18,
      "outputs": [
        {
          "output_type": "stream",
          "name": "stdout",
          "text": [
            "4/4 [==============================] - 24s 7s/step\n",
            "[[1.4281608e-06]\n",
            " [8.0665046e-07]\n",
            " [1.3319617e-09]\n",
            " [9.9999976e-01]\n",
            " [1.0000000e+00]\n",
            " [3.0680829e-09]\n",
            " [1.0000000e+00]\n",
            " [7.2166749e-08]\n",
            " [1.0000000e+00]\n",
            " [2.9429866e-13]\n",
            " [1.0000000e+00]\n",
            " [1.0882066e-09]\n",
            " [1.0000000e+00]\n",
            " [9.9999994e-01]\n",
            " [5.1047794e-10]\n",
            " [9.9999988e-01]\n",
            " [1.0000000e+00]\n",
            " [1.2141467e-09]\n",
            " [2.9833400e-09]\n",
            " [1.5731935e-08]\n",
            " [5.5009450e-06]\n",
            " [1.0000000e+00]\n",
            " [1.0000000e+00]\n",
            " [2.3342182e-08]\n",
            " [1.0000000e+00]\n",
            " [1.8232634e-11]\n",
            " [1.0000000e+00]\n",
            " [6.8551186e-11]\n",
            " [1.3978421e-09]\n",
            " [1.0000000e+00]\n",
            " [1.0000000e+00]\n",
            " [3.8568597e-08]\n",
            " [7.1764128e-09]\n",
            " [1.0000000e+00]\n",
            " [7.8053529e-11]\n",
            " [8.2346817e-11]\n",
            " [1.0000000e+00]\n",
            " [1.3095156e-11]\n",
            " [5.3775073e-10]\n",
            " [6.6162886e-10]\n",
            " [1.0000000e+00]\n",
            " [1.0000000e+00]\n",
            " [1.0000000e+00]\n",
            " [1.0000000e+00]\n",
            " [2.6257896e-07]\n",
            " [2.9405014e-09]\n",
            " [1.0000000e+00]\n",
            " [2.0871616e-12]\n",
            " [9.9999982e-01]\n",
            " [1.0000000e+00]\n",
            " [2.6455844e-09]\n",
            " [1.0000000e+00]\n",
            " [9.9999988e-01]\n",
            " [5.9837899e-09]\n",
            " [9.0249452e-09]\n",
            " [2.4200329e-12]\n",
            " [1.0000000e+00]\n",
            " [1.0000000e+00]\n",
            " [1.0000000e+00]\n",
            " [9.9999994e-01]\n",
            " [1.0000000e+00]\n",
            " [9.9999976e-01]\n",
            " [1.0000000e+00]\n",
            " [4.9032806e-08]\n",
            " [1.0000000e+00]\n",
            " [1.0000000e+00]\n",
            " [2.3935090e-08]\n",
            " [9.9999952e-01]\n",
            " [1.0000000e+00]\n",
            " [1.5692976e-08]\n",
            " [1.4357340e-13]\n",
            " [3.8774422e-05]\n",
            " [9.9999994e-01]\n",
            " [1.0000000e+00]\n",
            " [3.2816602e-10]\n",
            " [1.0000000e+00]\n",
            " [1.0000000e+00]\n",
            " [5.3998028e-09]\n",
            " [2.2791698e-10]\n",
            " [1.0000000e+00]\n",
            " [1.8793562e-09]\n",
            " [1.0000000e+00]\n",
            " [2.8547061e-12]\n",
            " [1.0000000e+00]\n",
            " [2.3285228e-11]\n",
            " [4.9188601e-11]\n",
            " [1.1215808e-10]\n",
            " [3.1020217e-10]\n",
            " [1.0000000e+00]\n",
            " [1.0000000e+00]\n",
            " [1.0000000e+00]\n",
            " [2.0346398e-09]\n",
            " [1.0511031e-09]\n",
            " [1.9880561e-10]\n",
            " [1.7706455e-08]\n",
            " [2.5302201e-08]\n",
            " [1.0000000e+00]\n",
            " [9.9999684e-01]\n",
            " [1.4686790e-11]\n",
            " [1.0000000e+00]]\n"
          ]
        }
      ]
    },
    {
      "cell_type": "code",
      "source": [
        "len(predictions)"
      ],
      "metadata": {
        "colab": {
          "base_uri": "https://localhost:8080/"
        },
        "id": "VH9ktpRR5t2F",
        "outputId": "f6a76fbd-dfcf-46e8-d4fb-f85635fd3ff7"
      },
      "execution_count": 19,
      "outputs": [
        {
          "output_type": "execute_result",
          "data": {
            "text/plain": [
              "100"
            ]
          },
          "metadata": {},
          "execution_count": 19
        }
      ]
    },
    {
      "cell_type": "code",
      "source": [
        "from sklearn.metrics import confusion_matrix, classification_report\n",
        "\n",
        "\n",
        "true_labels = test_data.classes\n",
        "predicted_labels = (predictions > 0.5).astype(int)\n",
        "\n",
        "# Calculate confusion matrix\n",
        "cm = confusion_matrix(true_labels, predicted_labels)\n",
        "\n",
        "# Print confusion matrix\n",
        "print(\"Confusion Matrix:\")\n",
        "print(cm)\n",
        "\n",
        "# Print classification report\n",
        "print(\"Classification Report:\")\n",
        "print(classification_report(true_labels, predicted_labels))"
      ],
      "metadata": {
        "colab": {
          "base_uri": "https://localhost:8080/"
        },
        "id": "S441X80X5znQ",
        "outputId": "e322fbbd-7c2e-4ae1-f5eb-36205f552ea6"
      },
      "execution_count": 20,
      "outputs": [
        {
          "output_type": "stream",
          "name": "stdout",
          "text": [
            "Confusion Matrix:\n",
            "[[26 24]\n",
            " [24 26]]\n",
            "Classification Report:\n",
            "              precision    recall  f1-score   support\n",
            "\n",
            "           0       0.52      0.52      0.52        50\n",
            "           1       0.52      0.52      0.52        50\n",
            "\n",
            "    accuracy                           0.52       100\n",
            "   macro avg       0.52      0.52      0.52       100\n",
            "weighted avg       0.52      0.52      0.52       100\n",
            "\n"
          ]
        }
      ]
    }
  ]
}